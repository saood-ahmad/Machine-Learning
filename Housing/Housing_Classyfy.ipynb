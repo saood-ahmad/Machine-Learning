{
 "cells": [
  {
   "cell_type": "code",
   "execution_count": 1,
   "id": "e10407ff",
   "metadata": {},
   "outputs": [],
   "source": [
    "import numpy as np\n",
    "import pandas as pd\n",
    "import matplotlib.pyplot as plt"
   ]
  },
  {
   "cell_type": "code",
   "execution_count": 126,
   "id": "ff771f17",
   "metadata": {},
   "outputs": [],
   "source": [
    "data=pd.read_csv('housing.csv')"
   ]
  },
  {
   "cell_type": "code",
   "execution_count": 127,
   "id": "4434beb7",
   "metadata": {},
   "outputs": [
    {
     "data": {
      "text/html": [
       "<div>\n",
       "<style scoped>\n",
       "    .dataframe tbody tr th:only-of-type {\n",
       "        vertical-align: middle;\n",
       "    }\n",
       "\n",
       "    .dataframe tbody tr th {\n",
       "        vertical-align: top;\n",
       "    }\n",
       "\n",
       "    .dataframe thead th {\n",
       "        text-align: right;\n",
       "    }\n",
       "</style>\n",
       "<table border=\"1\" class=\"dataframe\">\n",
       "  <thead>\n",
       "    <tr style=\"text-align: right;\">\n",
       "      <th></th>\n",
       "      <th>longitude</th>\n",
       "      <th>latitude</th>\n",
       "      <th>housing_median_age</th>\n",
       "      <th>total_rooms</th>\n",
       "      <th>total_bedrooms</th>\n",
       "      <th>population</th>\n",
       "      <th>households</th>\n",
       "      <th>median_income</th>\n",
       "      <th>median_house_value</th>\n",
       "      <th>ocean_proximity</th>\n",
       "    </tr>\n",
       "  </thead>\n",
       "  <tbody>\n",
       "    <tr>\n",
       "      <th>0</th>\n",
       "      <td>-122.23</td>\n",
       "      <td>37.88</td>\n",
       "      <td>41.0</td>\n",
       "      <td>880.0</td>\n",
       "      <td>129.0</td>\n",
       "      <td>322.0</td>\n",
       "      <td>126.0</td>\n",
       "      <td>8.3252</td>\n",
       "      <td>452600.0</td>\n",
       "      <td>NEAR BAY</td>\n",
       "    </tr>\n",
       "    <tr>\n",
       "      <th>1</th>\n",
       "      <td>-122.22</td>\n",
       "      <td>37.86</td>\n",
       "      <td>21.0</td>\n",
       "      <td>7099.0</td>\n",
       "      <td>1106.0</td>\n",
       "      <td>2401.0</td>\n",
       "      <td>1138.0</td>\n",
       "      <td>8.3014</td>\n",
       "      <td>358500.0</td>\n",
       "      <td>NEAR BAY</td>\n",
       "    </tr>\n",
       "    <tr>\n",
       "      <th>2</th>\n",
       "      <td>-122.24</td>\n",
       "      <td>37.85</td>\n",
       "      <td>52.0</td>\n",
       "      <td>1467.0</td>\n",
       "      <td>190.0</td>\n",
       "      <td>496.0</td>\n",
       "      <td>177.0</td>\n",
       "      <td>7.2574</td>\n",
       "      <td>352100.0</td>\n",
       "      <td>NEAR BAY</td>\n",
       "    </tr>\n",
       "    <tr>\n",
       "      <th>3</th>\n",
       "      <td>-122.25</td>\n",
       "      <td>37.85</td>\n",
       "      <td>52.0</td>\n",
       "      <td>1274.0</td>\n",
       "      <td>235.0</td>\n",
       "      <td>558.0</td>\n",
       "      <td>219.0</td>\n",
       "      <td>5.6431</td>\n",
       "      <td>341300.0</td>\n",
       "      <td>NEAR BAY</td>\n",
       "    </tr>\n",
       "    <tr>\n",
       "      <th>4</th>\n",
       "      <td>-122.25</td>\n",
       "      <td>37.85</td>\n",
       "      <td>52.0</td>\n",
       "      <td>1627.0</td>\n",
       "      <td>280.0</td>\n",
       "      <td>565.0</td>\n",
       "      <td>259.0</td>\n",
       "      <td>3.8462</td>\n",
       "      <td>342200.0</td>\n",
       "      <td>NEAR BAY</td>\n",
       "    </tr>\n",
       "    <tr>\n",
       "      <th>...</th>\n",
       "      <td>...</td>\n",
       "      <td>...</td>\n",
       "      <td>...</td>\n",
       "      <td>...</td>\n",
       "      <td>...</td>\n",
       "      <td>...</td>\n",
       "      <td>...</td>\n",
       "      <td>...</td>\n",
       "      <td>...</td>\n",
       "      <td>...</td>\n",
       "    </tr>\n",
       "    <tr>\n",
       "      <th>20635</th>\n",
       "      <td>-121.09</td>\n",
       "      <td>39.48</td>\n",
       "      <td>25.0</td>\n",
       "      <td>1665.0</td>\n",
       "      <td>374.0</td>\n",
       "      <td>845.0</td>\n",
       "      <td>330.0</td>\n",
       "      <td>1.5603</td>\n",
       "      <td>78100.0</td>\n",
       "      <td>INLAND</td>\n",
       "    </tr>\n",
       "    <tr>\n",
       "      <th>20636</th>\n",
       "      <td>-121.21</td>\n",
       "      <td>39.49</td>\n",
       "      <td>18.0</td>\n",
       "      <td>697.0</td>\n",
       "      <td>150.0</td>\n",
       "      <td>356.0</td>\n",
       "      <td>114.0</td>\n",
       "      <td>2.5568</td>\n",
       "      <td>77100.0</td>\n",
       "      <td>INLAND</td>\n",
       "    </tr>\n",
       "    <tr>\n",
       "      <th>20637</th>\n",
       "      <td>-121.22</td>\n",
       "      <td>39.43</td>\n",
       "      <td>17.0</td>\n",
       "      <td>2254.0</td>\n",
       "      <td>485.0</td>\n",
       "      <td>1007.0</td>\n",
       "      <td>433.0</td>\n",
       "      <td>1.7000</td>\n",
       "      <td>92300.0</td>\n",
       "      <td>INLAND</td>\n",
       "    </tr>\n",
       "    <tr>\n",
       "      <th>20638</th>\n",
       "      <td>-121.32</td>\n",
       "      <td>39.43</td>\n",
       "      <td>18.0</td>\n",
       "      <td>1860.0</td>\n",
       "      <td>409.0</td>\n",
       "      <td>741.0</td>\n",
       "      <td>349.0</td>\n",
       "      <td>1.8672</td>\n",
       "      <td>84700.0</td>\n",
       "      <td>INLAND</td>\n",
       "    </tr>\n",
       "    <tr>\n",
       "      <th>20639</th>\n",
       "      <td>-121.24</td>\n",
       "      <td>39.37</td>\n",
       "      <td>16.0</td>\n",
       "      <td>2785.0</td>\n",
       "      <td>616.0</td>\n",
       "      <td>1387.0</td>\n",
       "      <td>530.0</td>\n",
       "      <td>2.3886</td>\n",
       "      <td>89400.0</td>\n",
       "      <td>INLAND</td>\n",
       "    </tr>\n",
       "  </tbody>\n",
       "</table>\n",
       "<p>20640 rows × 10 columns</p>\n",
       "</div>"
      ],
      "text/plain": [
       "       longitude  latitude  housing_median_age  total_rooms  total_bedrooms  \\\n",
       "0        -122.23     37.88                41.0        880.0           129.0   \n",
       "1        -122.22     37.86                21.0       7099.0          1106.0   \n",
       "2        -122.24     37.85                52.0       1467.0           190.0   \n",
       "3        -122.25     37.85                52.0       1274.0           235.0   \n",
       "4        -122.25     37.85                52.0       1627.0           280.0   \n",
       "...          ...       ...                 ...          ...             ...   \n",
       "20635    -121.09     39.48                25.0       1665.0           374.0   \n",
       "20636    -121.21     39.49                18.0        697.0           150.0   \n",
       "20637    -121.22     39.43                17.0       2254.0           485.0   \n",
       "20638    -121.32     39.43                18.0       1860.0           409.0   \n",
       "20639    -121.24     39.37                16.0       2785.0           616.0   \n",
       "\n",
       "       population  households  median_income  median_house_value  \\\n",
       "0           322.0       126.0         8.3252            452600.0   \n",
       "1          2401.0      1138.0         8.3014            358500.0   \n",
       "2           496.0       177.0         7.2574            352100.0   \n",
       "3           558.0       219.0         5.6431            341300.0   \n",
       "4           565.0       259.0         3.8462            342200.0   \n",
       "...           ...         ...            ...                 ...   \n",
       "20635       845.0       330.0         1.5603             78100.0   \n",
       "20636       356.0       114.0         2.5568             77100.0   \n",
       "20637      1007.0       433.0         1.7000             92300.0   \n",
       "20638       741.0       349.0         1.8672             84700.0   \n",
       "20639      1387.0       530.0         2.3886             89400.0   \n",
       "\n",
       "      ocean_proximity  \n",
       "0            NEAR BAY  \n",
       "1            NEAR BAY  \n",
       "2            NEAR BAY  \n",
       "3            NEAR BAY  \n",
       "4            NEAR BAY  \n",
       "...               ...  \n",
       "20635          INLAND  \n",
       "20636          INLAND  \n",
       "20637          INLAND  \n",
       "20638          INLAND  \n",
       "20639          INLAND  \n",
       "\n",
       "[20640 rows x 10 columns]"
      ]
     },
     "execution_count": 127,
     "metadata": {},
     "output_type": "execute_result"
    }
   ],
   "source": [
    "data"
   ]
  },
  {
   "cell_type": "code",
   "execution_count": 128,
   "id": "38a85fa9",
   "metadata": {},
   "outputs": [
    {
     "name": "stdout",
     "output_type": "stream",
     "text": [
      "<class 'pandas.core.frame.DataFrame'>\n",
      "RangeIndex: 20640 entries, 0 to 20639\n",
      "Data columns (total 10 columns):\n",
      " #   Column              Non-Null Count  Dtype  \n",
      "---  ------              --------------  -----  \n",
      " 0   longitude           20640 non-null  float64\n",
      " 1   latitude            20640 non-null  float64\n",
      " 2   housing_median_age  20640 non-null  float64\n",
      " 3   total_rooms         20640 non-null  float64\n",
      " 4   total_bedrooms      20433 non-null  float64\n",
      " 5   population          20640 non-null  float64\n",
      " 6   households          20640 non-null  float64\n",
      " 7   median_income       20640 non-null  float64\n",
      " 8   median_house_value  20640 non-null  float64\n",
      " 9   ocean_proximity     20640 non-null  object \n",
      "dtypes: float64(9), object(1)\n",
      "memory usage: 1.6+ MB\n"
     ]
    }
   ],
   "source": [
    "data.info()"
   ]
  },
  {
   "cell_type": "markdown",
   "id": "4d28ecd0",
   "metadata": {},
   "source": [
    "### like previously we chnage the null value of total bedroom to zero assume that who take that data is take null value when there is no bedroom"
   ]
  },
  {
   "cell_type": "code",
   "execution_count": 129,
   "id": "c5c32ac7",
   "metadata": {},
   "outputs": [],
   "source": [
    "data.fillna(0,inplace=True)"
   ]
  },
  {
   "cell_type": "markdown",
   "id": "48e1aa73",
   "metadata": {},
   "source": [
    "## Replace the value of ocean proximity"
   ]
  },
  {
   "cell_type": "code",
   "execution_count": 130,
   "id": "518335ad",
   "metadata": {},
   "outputs": [],
   "source": [
    "data['ocean_proximity'].replace({'NEAR BAY':1,'<1H OCEAN':2,'INLAND':3,\"NEAR OCEAN\":4,'ISLAND':5},inplace=True)"
   ]
  },
  {
   "cell_type": "code",
   "execution_count": 131,
   "id": "30fb529e",
   "metadata": {},
   "outputs": [],
   "source": [
    "import seaborn as sns"
   ]
  },
  {
   "cell_type": "markdown",
   "id": "b77563ab",
   "metadata": {},
   "source": [
    "# data Visualize"
   ]
  },
  {
   "cell_type": "code",
   "execution_count": 132,
   "id": "7931efa1",
   "metadata": {},
   "outputs": [
    {
     "data": {
      "text/html": [
       "<div>\n",
       "<style scoped>\n",
       "    .dataframe tbody tr th:only-of-type {\n",
       "        vertical-align: middle;\n",
       "    }\n",
       "\n",
       "    .dataframe tbody tr th {\n",
       "        vertical-align: top;\n",
       "    }\n",
       "\n",
       "    .dataframe thead th {\n",
       "        text-align: right;\n",
       "    }\n",
       "</style>\n",
       "<table border=\"1\" class=\"dataframe\">\n",
       "  <thead>\n",
       "    <tr style=\"text-align: right;\">\n",
       "      <th></th>\n",
       "      <th>longitude</th>\n",
       "      <th>latitude</th>\n",
       "      <th>housing_median_age</th>\n",
       "      <th>total_rooms</th>\n",
       "      <th>total_bedrooms</th>\n",
       "      <th>population</th>\n",
       "      <th>households</th>\n",
       "      <th>median_income</th>\n",
       "      <th>median_house_value</th>\n",
       "      <th>ocean_proximity</th>\n",
       "    </tr>\n",
       "  </thead>\n",
       "  <tbody>\n",
       "    <tr>\n",
       "      <th>longitude</th>\n",
       "      <td>1.000000</td>\n",
       "      <td>-0.924664</td>\n",
       "      <td>-0.108197</td>\n",
       "      <td>0.044568</td>\n",
       "      <td>0.068082</td>\n",
       "      <td>0.099773</td>\n",
       "      <td>0.055310</td>\n",
       "      <td>-0.015176</td>\n",
       "      <td>-0.045967</td>\n",
       "      <td>0.180381</td>\n",
       "    </tr>\n",
       "    <tr>\n",
       "      <th>latitude</th>\n",
       "      <td>-0.924664</td>\n",
       "      <td>1.000000</td>\n",
       "      <td>0.011173</td>\n",
       "      <td>-0.036100</td>\n",
       "      <td>-0.065318</td>\n",
       "      <td>-0.108785</td>\n",
       "      <td>-0.071035</td>\n",
       "      <td>-0.079809</td>\n",
       "      <td>-0.144160</td>\n",
       "      <td>-0.067586</td>\n",
       "    </tr>\n",
       "    <tr>\n",
       "      <th>housing_median_age</th>\n",
       "      <td>-0.108197</td>\n",
       "      <td>0.011173</td>\n",
       "      <td>1.000000</td>\n",
       "      <td>-0.361262</td>\n",
       "      <td>-0.317063</td>\n",
       "      <td>-0.296244</td>\n",
       "      <td>-0.302916</td>\n",
       "      <td>-0.119034</td>\n",
       "      <td>0.105623</td>\n",
       "      <td>-0.204882</td>\n",
       "    </tr>\n",
       "    <tr>\n",
       "      <th>total_rooms</th>\n",
       "      <td>0.044568</td>\n",
       "      <td>-0.036100</td>\n",
       "      <td>-0.361262</td>\n",
       "      <td>1.000000</td>\n",
       "      <td>0.920196</td>\n",
       "      <td>0.857126</td>\n",
       "      <td>0.918484</td>\n",
       "      <td>0.198050</td>\n",
       "      <td>0.134153</td>\n",
       "      <td>0.014818</td>\n",
       "    </tr>\n",
       "    <tr>\n",
       "      <th>total_bedrooms</th>\n",
       "      <td>0.068082</td>\n",
       "      <td>-0.065318</td>\n",
       "      <td>-0.317063</td>\n",
       "      <td>0.920196</td>\n",
       "      <td>1.000000</td>\n",
       "      <td>0.866266</td>\n",
       "      <td>0.966507</td>\n",
       "      <td>-0.007295</td>\n",
       "      <td>0.049148</td>\n",
       "      <td>0.004114</td>\n",
       "    </tr>\n",
       "    <tr>\n",
       "      <th>population</th>\n",
       "      <td>0.099773</td>\n",
       "      <td>-0.108785</td>\n",
       "      <td>-0.296244</td>\n",
       "      <td>0.857126</td>\n",
       "      <td>0.866266</td>\n",
       "      <td>1.000000</td>\n",
       "      <td>0.907222</td>\n",
       "      <td>0.004834</td>\n",
       "      <td>-0.024650</td>\n",
       "      <td>-0.008511</td>\n",
       "    </tr>\n",
       "    <tr>\n",
       "      <th>households</th>\n",
       "      <td>0.055310</td>\n",
       "      <td>-0.071035</td>\n",
       "      <td>-0.302916</td>\n",
       "      <td>0.918484</td>\n",
       "      <td>0.966507</td>\n",
       "      <td>0.907222</td>\n",
       "      <td>1.000000</td>\n",
       "      <td>0.013033</td>\n",
       "      <td>0.065843</td>\n",
       "      <td>-0.016911</td>\n",
       "    </tr>\n",
       "    <tr>\n",
       "      <th>median_income</th>\n",
       "      <td>-0.015176</td>\n",
       "      <td>-0.079809</td>\n",
       "      <td>-0.119034</td>\n",
       "      <td>0.198050</td>\n",
       "      <td>-0.007295</td>\n",
       "      <td>0.004834</td>\n",
       "      <td>0.013033</td>\n",
       "      <td>1.000000</td>\n",
       "      <td>0.688075</td>\n",
       "      <td>-0.129135</td>\n",
       "    </tr>\n",
       "    <tr>\n",
       "      <th>median_house_value</th>\n",
       "      <td>-0.045967</td>\n",
       "      <td>-0.144160</td>\n",
       "      <td>0.105623</td>\n",
       "      <td>0.134153</td>\n",
       "      <td>0.049148</td>\n",
       "      <td>-0.024650</td>\n",
       "      <td>0.065843</td>\n",
       "      <td>0.688075</td>\n",
       "      <td>1.000000</td>\n",
       "      <td>-0.210600</td>\n",
       "    </tr>\n",
       "    <tr>\n",
       "      <th>ocean_proximity</th>\n",
       "      <td>0.180381</td>\n",
       "      <td>-0.067586</td>\n",
       "      <td>-0.204882</td>\n",
       "      <td>0.014818</td>\n",
       "      <td>0.004114</td>\n",
       "      <td>-0.008511</td>\n",
       "      <td>-0.016911</td>\n",
       "      <td>-0.129135</td>\n",
       "      <td>-0.210600</td>\n",
       "      <td>1.000000</td>\n",
       "    </tr>\n",
       "  </tbody>\n",
       "</table>\n",
       "</div>"
      ],
      "text/plain": [
       "                    longitude  latitude  housing_median_age  total_rooms  \\\n",
       "longitude            1.000000 -0.924664           -0.108197     0.044568   \n",
       "latitude            -0.924664  1.000000            0.011173    -0.036100   \n",
       "housing_median_age  -0.108197  0.011173            1.000000    -0.361262   \n",
       "total_rooms          0.044568 -0.036100           -0.361262     1.000000   \n",
       "total_bedrooms       0.068082 -0.065318           -0.317063     0.920196   \n",
       "population           0.099773 -0.108785           -0.296244     0.857126   \n",
       "households           0.055310 -0.071035           -0.302916     0.918484   \n",
       "median_income       -0.015176 -0.079809           -0.119034     0.198050   \n",
       "median_house_value  -0.045967 -0.144160            0.105623     0.134153   \n",
       "ocean_proximity      0.180381 -0.067586           -0.204882     0.014818   \n",
       "\n",
       "                    total_bedrooms  population  households  median_income  \\\n",
       "longitude                 0.068082    0.099773    0.055310      -0.015176   \n",
       "latitude                 -0.065318   -0.108785   -0.071035      -0.079809   \n",
       "housing_median_age       -0.317063   -0.296244   -0.302916      -0.119034   \n",
       "total_rooms               0.920196    0.857126    0.918484       0.198050   \n",
       "total_bedrooms            1.000000    0.866266    0.966507      -0.007295   \n",
       "population                0.866266    1.000000    0.907222       0.004834   \n",
       "households                0.966507    0.907222    1.000000       0.013033   \n",
       "median_income            -0.007295    0.004834    0.013033       1.000000   \n",
       "median_house_value        0.049148   -0.024650    0.065843       0.688075   \n",
       "ocean_proximity           0.004114   -0.008511   -0.016911      -0.129135   \n",
       "\n",
       "                    median_house_value  ocean_proximity  \n",
       "longitude                    -0.045967         0.180381  \n",
       "latitude                     -0.144160        -0.067586  \n",
       "housing_median_age            0.105623        -0.204882  \n",
       "total_rooms                   0.134153         0.014818  \n",
       "total_bedrooms                0.049148         0.004114  \n",
       "population                   -0.024650        -0.008511  \n",
       "households                    0.065843        -0.016911  \n",
       "median_income                 0.688075        -0.129135  \n",
       "median_house_value            1.000000        -0.210600  \n",
       "ocean_proximity              -0.210600         1.000000  "
      ]
     },
     "execution_count": 132,
     "metadata": {},
     "output_type": "execute_result"
    }
   ],
   "source": [
    "data.corr()"
   ]
  },
  {
   "cell_type": "code",
   "execution_count": 133,
   "id": "0577d690",
   "metadata": {},
   "outputs": [
    {
     "data": {
      "text/plain": [
       "median_house_value    1.000000\n",
       "median_income         0.688075\n",
       "total_rooms           0.134153\n",
       "housing_median_age    0.105623\n",
       "households            0.065843\n",
       "total_bedrooms        0.049148\n",
       "population           -0.024650\n",
       "longitude            -0.045967\n",
       "latitude             -0.144160\n",
       "ocean_proximity      -0.210600\n",
       "Name: median_house_value, dtype: float64"
      ]
     },
     "execution_count": 133,
     "metadata": {},
     "output_type": "execute_result"
    }
   ],
   "source": [
    "dfc=data.corr()\n",
    "dfc[\"median_house_value\"].sort_values(ascending=False)"
   ]
  },
  {
   "cell_type": "code",
   "execution_count": 134,
   "id": "7545dc9b",
   "metadata": {},
   "outputs": [
    {
     "data": {
      "image/png": "[encoded data removed]",
      "text/plain": [
       "<Figure size 1080x720 with 2 Axes>"
      ]
     },
     "metadata": {
      "needs_background": "light"
     },
     "output_type": "display_data"
    }
   ],
   "source": [
    "corr_matrix = data.corr()\n",
    "fig, ax = plt.subplots(figsize=(15, 10))\n",
    "\n",
    "# Plot\n",
    "ax = sns.heatmap(corr_matrix, \n",
    "                 annot=True, \n",
    "                 linewidths=0.5, \n",
    "                 fmt=\".2f\", \n",
    "                 cmap=\"YlGnBu\", )\n",
    "\n",
    "# Customization\n",
    "plt.title(\"Heatmap Correlation\")\n",
    "plt.show()"
   ]
  },
  {
   "cell_type": "code",
   "execution_count": 135,
   "id": "2b88a3b7",
   "metadata": {},
   "outputs": [
    {
     "data": {
      "image/png": "[encoded data removed]",
      "text/plain": [
       "<Figure size 1440x1080 with 12 Axes>"
      ]
     },
     "metadata": {
      "needs_background": "light"
     },
     "output_type": "display_data"
    }
   ],
   "source": [
    "data.hist(bins=50,figsize=(20,15))\n",
    "plt.show()"
   ]
  },
  {
   "cell_type": "markdown",
   "id": "fa40784d",
   "metadata": {},
   "source": [
    "# Classify target data\n",
    "### We classify the median_house_value into five after seeing the histogram plot"
   ]
  },
  {
   "cell_type": "code",
   "execution_count": 136,
   "id": "696cc0c2",
   "metadata": {},
   "outputs": [],
   "source": [
    "data[\"median_house_value\"] = np.where(data[\"median_house_value\"] <= 100000, 600000, data[\"median_house_value\"]  )"
   ]
  },
  {
   "cell_type": "code",
   "execution_count": 137,
   "id": "526de1e9",
   "metadata": {},
   "outputs": [],
   "source": [
    "data[\"median_house_value\"] = np.where(data[\"median_house_value\"] <= 200000, 600001, data[\"median_house_value\"]  )"
   ]
  },
  {
   "cell_type": "code",
   "execution_count": 138,
   "id": "3455fe1e",
   "metadata": {},
   "outputs": [],
   "source": [
    "data[\"median_house_value\"] = np.where(data[\"median_house_value\"] <= 300000, 600003, data[\"median_house_value\"]  )"
   ]
  },
  {
   "cell_type": "code",
   "execution_count": 139,
   "id": "c173f8e5",
   "metadata": {},
   "outputs": [],
   "source": [
    "data[\"median_house_value\"] = np.where(data[\"median_house_value\"] <= 400000, 600004, data[\"median_house_value\"]  )"
   ]
  },
  {
   "cell_type": "code",
   "execution_count": 140,
   "id": "d0de5f9e",
   "metadata": {},
   "outputs": [],
   "source": [
    "data[\"median_house_value\"] = np.where(data[\"median_house_value\"] <= 500002, 600005, data[\"median_house_value\"]  )"
   ]
  },
  {
   "cell_type": "code",
   "execution_count": 141,
   "id": "e311bc1e",
   "metadata": {},
   "outputs": [],
   "source": [
    "data[\"median_house_value\"].replace({600000:'low',600001:'medlow',600003:'med',600004:'medhigh',600005:'high'},inplace=True)"
   ]
  },
  {
   "cell_type": "code",
   "execution_count": 142,
   "id": "8b2c038c",
   "metadata": {},
   "outputs": [
    {
     "data": {
      "text/plain": [
       "array(['high', 'medhigh', 'med', 'medlow', 'low'], dtype=object)"
      ]
     },
     "execution_count": 142,
     "metadata": {},
     "output_type": "execute_result"
    }
   ],
   "source": [
    "data[\"median_house_value\"].unique()"
   ]
  },
  {
   "cell_type": "code",
   "execution_count": 143,
   "id": "a7c7cb9b",
   "metadata": {},
   "outputs": [],
   "source": [
    "y= data[['median_house_value']]"
   ]
  },
  {
   "cell_type": "code",
   "execution_count": 144,
   "id": "abecbdd1",
   "metadata": {},
   "outputs": [],
   "source": [
    "x=data.drop(columns=['median_house_value'])"
   ]
  },
  {
   "cell_type": "code",
   "execution_count": 145,
   "id": "6e6a6519",
   "metadata": {},
   "outputs": [],
   "source": [
    "x=np.array(x)"
   ]
  },
  {
   "cell_type": "code",
   "execution_count": 146,
   "id": "62ba7237",
   "metadata": {},
   "outputs": [],
   "source": [
    "y=np.array(y)"
   ]
  },
  {
   "cell_type": "code",
   "execution_count": 147,
   "id": "aea7f170",
   "metadata": {},
   "outputs": [
    {
     "data": {
      "text/plain": [
       "array(['high', 'low', 'med', 'medhigh', 'medlow'], dtype=object)"
      ]
     },
     "execution_count": 147,
     "metadata": {},
     "output_type": "execute_result"
    }
   ],
   "source": [
    "np.unique(y)"
   ]
  },
  {
   "cell_type": "code",
   "execution_count": 148,
   "id": "602305b6",
   "metadata": {},
   "outputs": [],
   "source": [
    "from sklearn.model_selection import train_test_split as tts\n",
    "from sklearn.linear_model import SGDClassifier\n",
    "from sklearn.metrics import confusion_matrix, accuracy_score, precision_score, f1_score\n",
    "import joblib\n",
    "from sklearn.preprocessing import StandardScaler"
   ]
  },
  {
   "cell_type": "code",
   "execution_count": 149,
   "id": "3a78a4fb",
   "metadata": {},
   "outputs": [],
   "source": [
    "mymodel=SGDClassifier()"
   ]
  },
  {
   "cell_type": "markdown",
   "id": "9d61b7d1",
   "metadata": {},
   "source": [
    "# SGD Classifier"
   ]
  },
  {
   "cell_type": "code",
   "execution_count": 151,
   "id": "4e4eba2c",
   "metadata": {},
   "outputs": [
    {
     "name": "stdout",
     "output_type": "stream",
     "text": [
      "0.5305232558139535\n",
      "0.5453003875968992\n",
      "0.5499031007751938\n",
      "0.530281007751938\n",
      "0.5360949612403101\n",
      "0.5213178294573644\n",
      "0.5370639534883721\n",
      "0.5251937984496124\n",
      "0.5157461240310077\n",
      "0.5184108527131783\n",
      "0.5380329457364341\n",
      "0.5247093023255814\n",
      "0.5416666666666666\n",
      "0.5271317829457365\n",
      "0.531734496124031\n",
      "0.5232558139534884\n",
      "0.5237403100775194\n",
      "0.5121124031007752\n",
      "0.531734496124031\n",
      "0.5278585271317829\n",
      "0.5065406976744186\n",
      "0.5159883720930233\n",
      "0.5147771317829457\n",
      "0.5472383720930233\n",
      "0.5089631782945736\n",
      "0.5167151162790697\n",
      "0.5474806201550387\n",
      "0.5295542635658915\n",
      "0.5232558139534884\n",
      "0.5501453488372093\n",
      "0.5501453488372093\n"
     ]
    }
   ],
   "source": [
    "acc = 0.1\n",
    "while acc < 0.55:\n",
    "    myscaler=StandardScaler()\n",
    "    myscaler.fit(x)\n",
    "    xs=myscaler.transform(x)\n",
    "    xtrain, xtest, ytrain, ytest = tts(xs, y, test_size=0.2) # split the data\n",
    "    mymodel.fit(xtrain, ytrain.ravel())\n",
    "    yhat = mymodel.predict(xtest)\n",
    "    acc=accuracy_score(ytest,yhat)\n",
    "    print(acc)\n",
    "print(acc)"
   ]
  },
  {
   "cell_type": "markdown",
   "id": "e8ff684d",
   "metadata": {},
   "source": [
    "### After many tries, we get the best maximum accuracy_score at < 0.55\n",
    "## means that we get only 55 perc. correct value\n",
    "### if we get the another best value in another model (switch it to that model)"
   ]
  },
  {
   "cell_type": "markdown",
   "id": "10b225ed",
   "metadata": {},
   "source": [
    "# RandomForestClassifier"
   ]
  },
  {
   "cell_type": "code",
   "execution_count": 171,
   "id": "cc3605d4",
   "metadata": {},
   "outputs": [],
   "source": [
    "from sklearn.ensemble import RandomForestClassifier"
   ]
  },
  {
   "cell_type": "code",
   "execution_count": 172,
   "id": "405ffe43",
   "metadata": {},
   "outputs": [
    {
     "name": "stdout",
     "output_type": "stream",
     "text": [
      "0.5687984496124031\n",
      "0.5813953488372093\n",
      "0.5734011627906976\n",
      "0.5782461240310077\n",
      "0.5806686046511628\n",
      "0.5876937984496124\n",
      "0.5804263565891473\n",
      "0.5811531007751938\n",
      "0.5816375968992248\n",
      "0.5794573643410853\n",
      "0.5821220930232558\n",
      "0.5886627906976745\n",
      "0.5823643410852714\n",
      "0.5801841085271318\n",
      "0.5777616279069767\n",
      "0.5983527131782945\n",
      "0.5724321705426356\n",
      "0.5736434108527132\n",
      "0.5775193798449613\n",
      "0.595203488372093\n",
      "0.5813953488372093\n",
      "0.5889050387596899\n",
      "0.5738856589147286\n",
      "0.5792151162790697\n",
      "0.5792151162790697\n",
      "0.5843023255813954\n",
      "0.5864825581395349\n",
      "0.5879360465116279\n",
      "0.5717054263565892\n",
      "0.592296511627907\n",
      "0.5796996124031008\n",
      "0.5855135658914729\n",
      "0.6019864341085271\n",
      "0.6019864341085271\n"
     ]
    }
   ],
   "source": [
    "forest = RandomForestClassifier(n_estimators=75)\n",
    "acc = 0.1\n",
    "while acc < 0.6:\n",
    "    xtrain, xtest, ytrain, ytest = tts(x, y, test_size=0.2) # split the data\n",
    "    forest.fit(xtrain, ytrain.ravel())\n",
    "    yhat = mymodel.predict(xtest)\n",
    "    acc=accuracy_score(ytest,yhat)\n",
    "    print(acc)\n",
    "print(acc)"
   ]
  },
  {
   "cell_type": "markdown",
   "id": "3bc254cd",
   "metadata": {},
   "source": [
    "### After many tries, we get the best maximum accuracy_score at < 0.6\n",
    "## means that we increase to 60 perc. correct value\n",
    "### if we get the another best value in another model (switch it to that model)"
   ]
  },
  {
   "cell_type": "code",
   "execution_count": 176,
   "id": "3f3c9d7e",
   "metadata": {},
   "outputs": [],
   "source": [
    "from sklearn.neural_network import MLPClassifier"
   ]
  },
  {
   "cell_type": "code",
   "execution_count": 180,
   "id": "35b58ead",
   "metadata": {},
   "outputs": [],
   "source": [
    "mlp= MLPClassifier(hidden_layer_sizes=(7,7),activation='relu',solver='lbfgs',max_iter=100000)\n"
   ]
  },
  {
   "cell_type": "code",
   "execution_count": 181,
   "id": "a8b78f45",
   "metadata": {},
   "outputs": [
    {
     "name": "stdout",
     "output_type": "stream",
     "text": [
      "0.5743701550387597\n",
      "0.5813953488372093\n",
      "0.5850290697674418\n",
      "0.5707364341085271\n",
      "0.5852713178294574\n",
      "0.5898740310077519\n"
     ]
    },
    {
     "name": "stderr",
     "output_type": "stream",
     "text": [
      "C:\\Users\\saood\\AppData\\Local\\Programs\\Python\\Python310\\lib\\site-packages\\sklearn\\neural_network\\_multilayer_perceptron.py:559: ConvergenceWarning: lbfgs failed to converge (status=2):\n",
      "ABNORMAL_TERMINATION_IN_LNSRCH.\n",
      "\n",
      "Increase the number of iterations (max_iter) or scale the data as shown in:\n",
      "    https://scikit-learn.org/stable/modules/preprocessing.html\n",
      "  self.n_iter_ = _check_optimize_result(\"lbfgs\", opt_res, self.max_iter)\n"
     ]
    },
    {
     "name": "stdout",
     "output_type": "stream",
     "text": [
      "0.5811531007751938\n",
      "0.5833333333333334\n",
      "0.5801841085271318\n"
     ]
    },
    {
     "name": "stderr",
     "output_type": "stream",
     "text": [
      "C:\\Users\\saood\\AppData\\Local\\Programs\\Python\\Python310\\lib\\site-packages\\sklearn\\neural_network\\_multilayer_perceptron.py:559: ConvergenceWarning: lbfgs failed to converge (status=2):\n",
      "ABNORMAL_TERMINATION_IN_LNSRCH.\n",
      "\n",
      "Increase the number of iterations (max_iter) or scale the data as shown in:\n",
      "    https://scikit-learn.org/stable/modules/preprocessing.html\n",
      "  self.n_iter_ = _check_optimize_result(\"lbfgs\", opt_res, self.max_iter)\n"
     ]
    },
    {
     "name": "stdout",
     "output_type": "stream",
     "text": [
      "0.565406976744186\n"
     ]
    },
    {
     "name": "stderr",
     "output_type": "stream",
     "text": [
      "C:\\Users\\saood\\AppData\\Local\\Programs\\Python\\Python310\\lib\\site-packages\\sklearn\\neural_network\\_multilayer_perceptron.py:559: ConvergenceWarning: lbfgs failed to converge (status=2):\n",
      "ABNORMAL_TERMINATION_IN_LNSRCH.\n",
      "\n",
      "Increase the number of iterations (max_iter) or scale the data as shown in:\n",
      "    https://scikit-learn.org/stable/modules/preprocessing.html\n",
      "  self.n_iter_ = _check_optimize_result(\"lbfgs\", opt_res, self.max_iter)\n"
     ]
    },
    {
     "name": "stdout",
     "output_type": "stream",
     "text": [
      "0.5804263565891473\n"
     ]
    },
    {
     "name": "stderr",
     "output_type": "stream",
     "text": [
      "C:\\Users\\saood\\AppData\\Local\\Programs\\Python\\Python310\\lib\\site-packages\\sklearn\\neural_network\\_multilayer_perceptron.py:559: ConvergenceWarning: lbfgs failed to converge (status=2):\n",
      "ABNORMAL_TERMINATION_IN_LNSRCH.\n",
      "\n",
      "Increase the number of iterations (max_iter) or scale the data as shown in:\n",
      "    https://scikit-learn.org/stable/modules/preprocessing.html\n",
      "  self.n_iter_ = _check_optimize_result(\"lbfgs\", opt_res, self.max_iter)\n"
     ]
    },
    {
     "name": "stdout",
     "output_type": "stream",
     "text": [
      "0.5690406976744186\n"
     ]
    },
    {
     "name": "stderr",
     "output_type": "stream",
     "text": [
      "C:\\Users\\saood\\AppData\\Local\\Programs\\Python\\Python310\\lib\\site-packages\\sklearn\\neural_network\\_multilayer_perceptron.py:559: ConvergenceWarning: lbfgs failed to converge (status=2):\n",
      "ABNORMAL_TERMINATION_IN_LNSRCH.\n",
      "\n",
      "Increase the number of iterations (max_iter) or scale the data as shown in:\n",
      "    https://scikit-learn.org/stable/modules/preprocessing.html\n",
      "  self.n_iter_ = _check_optimize_result(\"lbfgs\", opt_res, self.max_iter)\n"
     ]
    },
    {
     "name": "stdout",
     "output_type": "stream",
     "text": [
      "0.5830910852713178\n",
      "0.5816375968992248\n",
      "0.5833333333333334\n",
      "0.5782461240310077\n"
     ]
    },
    {
     "name": "stderr",
     "output_type": "stream",
     "text": [
      "C:\\Users\\saood\\AppData\\Local\\Programs\\Python\\Python310\\lib\\site-packages\\sklearn\\neural_network\\_multilayer_perceptron.py:559: ConvergenceWarning: lbfgs failed to converge (status=2):\n",
      "ABNORMAL_TERMINATION_IN_LNSRCH.\n",
      "\n",
      "Increase the number of iterations (max_iter) or scale the data as shown in:\n",
      "    https://scikit-learn.org/stable/modules/preprocessing.html\n",
      "  self.n_iter_ = _check_optimize_result(\"lbfgs\", opt_res, self.max_iter)\n"
     ]
    },
    {
     "name": "stdout",
     "output_type": "stream",
     "text": [
      "0.5855135658914729\n",
      "0.5799418604651163\n",
      "0.5862403100775194\n",
      "0.5719476744186046\n",
      "0.5753391472868217\n"
     ]
    },
    {
     "name": "stderr",
     "output_type": "stream",
     "text": [
      "C:\\Users\\saood\\AppData\\Local\\Programs\\Python\\Python310\\lib\\site-packages\\sklearn\\neural_network\\_multilayer_perceptron.py:559: ConvergenceWarning: lbfgs failed to converge (status=2):\n",
      "ABNORMAL_TERMINATION_IN_LNSRCH.\n",
      "\n",
      "Increase the number of iterations (max_iter) or scale the data as shown in:\n",
      "    https://scikit-learn.org/stable/modules/preprocessing.html\n",
      "  self.n_iter_ = _check_optimize_result(\"lbfgs\", opt_res, self.max_iter)\n"
     ]
    },
    {
     "name": "stdout",
     "output_type": "stream",
     "text": [
      "0.5864825581395349\n",
      "0.5840600775193798\n",
      "0.5789728682170543\n",
      "0.5700096899224806\n",
      "0.5741279069767442\n",
      "0.5857558139534884\n",
      "0.5830910852713178\n",
      "0.5794573643410853\n",
      "0.5879360465116279\n",
      "0.5862403100775194\n"
     ]
    },
    {
     "name": "stderr",
     "output_type": "stream",
     "text": [
      "C:\\Users\\saood\\AppData\\Local\\Programs\\Python\\Python310\\lib\\site-packages\\sklearn\\neural_network\\_multilayer_perceptron.py:559: ConvergenceWarning: lbfgs failed to converge (status=2):\n",
      "ABNORMAL_TERMINATION_IN_LNSRCH.\n",
      "\n",
      "Increase the number of iterations (max_iter) or scale the data as shown in:\n",
      "    https://scikit-learn.org/stable/modules/preprocessing.html\n",
      "  self.n_iter_ = _check_optimize_result(\"lbfgs\", opt_res, self.max_iter)\n"
     ]
    },
    {
     "name": "stdout",
     "output_type": "stream",
     "text": [
      "0.5850290697674418\n",
      "0.592781007751938\n",
      "0.5830910852713178\n",
      "0.6036821705426356\n",
      "0.6036821705426356\n"
     ]
    }
   ],
   "source": [
    "acc = 0.1\n",
    "while acc < 0.6:\n",
    "    xtrain, xtest, ytrain, ytest = tts(x, y, test_size=0.2) # split the data\n",
    "    mlp.fit(xtrain, ytrain.ravel())\n",
    "    yhat = mymodel.predict(xtest)\n",
    "    acc=accuracy_score(ytest,yhat)\n",
    "    print(acc)\n",
    "print(acc)"
   ]
  },
  {
   "cell_type": "markdown",
   "id": "69f75655",
   "metadata": {},
   "source": [
    "### we increse max iteration to 10000 but some times its again reach at max- iteration gives warning but loops we create helps and run program again"
   ]
  },
  {
   "cell_type": "markdown",
   "id": "76d49f14",
   "metadata": {},
   "source": [
    "### After many tries, we get again maximum accuracy_score at < 0.6\n",
    "## means that  60 perc. correct value\n",
    "### if we get the another best value in another model (switch it to that model)"
   ]
  },
  {
   "cell_type": "markdown",
   "id": "08d7b3be",
   "metadata": {},
   "source": [
    "# Decision Tree"
   ]
  },
  {
   "cell_type": "code",
   "execution_count": 246,
   "id": "7999969a",
   "metadata": {},
   "outputs": [],
   "source": [
    "from sklearn.tree import DecisionTreeClassifier"
   ]
  },
  {
   "cell_type": "markdown",
   "id": "caa6efcb",
   "metadata": {},
   "source": [
    "### at max_depth=8 "
   ]
  },
  {
   "cell_type": "code",
   "execution_count": 247,
   "id": "5dcbb577",
   "metadata": {},
   "outputs": [
    {
     "name": "stdout",
     "output_type": "stream",
     "text": [
      "0.6258074935400517\n",
      "0.6304909560723514\n",
      "0.647125322997416\n",
      "0.6447028423772609\n",
      "0.627422480620155\n",
      "0.6338824289405685\n",
      "0.6388888888888888\n",
      "0.6385658914728682\n",
      "0.6233850129198967\n",
      "0.6351744186046512\n",
      "0.6356589147286822\n",
      "0.6442183462532299\n",
      "0.6287144702842378\n",
      "0.6392118863049095\n",
      "0.6258074935400517\n",
      "0.6243540051679587\n",
      "0.6405038759689923\n",
      "0.6348514211886305\n",
      "0.6379198966408268\n",
      "0.6374354005167958\n",
      "0.6327519379844961\n",
      "0.6206395348837209\n",
      "0.6351744186046512\n",
      "0.6277454780361758\n",
      "0.6275839793281653\n",
      "0.6427648578811369\n",
      "0.622577519379845\n",
      "0.6333979328165374\n",
      "0.6455103359173127\n",
      "0.6261304909560723\n",
      "0.6283914728682171\n",
      "0.6275839793281653\n",
      "0.6295219638242894\n",
      "0.6427648578811369\n",
      "0.6430878552971576\n",
      "0.6340439276485789\n",
      "0.6435723514211886\n",
      "0.6358204134366925\n",
      "0.6469638242894057\n",
      "0.625\n",
      "0.6317829457364341\n",
      "0.6346899224806202\n",
      "0.6379198966408268\n",
      "0.6359819121447028\n",
      "0.6393733850129198\n",
      "0.6287144702842378\n",
      "0.6311369509043928\n",
      "0.6411498708010336\n",
      "0.6380813953488372\n",
      "0.6393733850129198\n",
      "0.6298449612403101\n",
      "0.6388888888888888\n",
      "0.6094961240310077\n",
      "0.6342054263565892\n",
      "0.6353359173126615\n",
      "0.6319444444444444\n",
      "0.6338824289405685\n",
      "0.6282299741602068\n",
      "0.6359819121447028\n",
      "0.6330749354005168\n",
      "0.6327519379844961\n",
      "0.6303294573643411\n",
      "0.6380813953488372\n",
      "0.6322674418604651\n",
      "0.627422480620155\n",
      "0.6379198966408268\n",
      "0.6438953488372093\n",
      "0.6343669250645995\n",
      "0.626937984496124\n",
      "0.6364664082687338\n",
      "0.6396963824289406\n",
      "0.6390503875968992\n",
      "0.6364664082687338\n",
      "0.6317829457364341\n",
      "0.6346899224806202\n",
      "0.6335594315245479\n",
      "0.6435723514211886\n",
      "0.6459948320413437\n",
      "0.6330749354005168\n",
      "0.6283914728682171\n",
      "0.6388888888888888\n",
      "0.625484496124031\n",
      "0.6266149870801033\n",
      "0.6261304909560723\n",
      "0.6342054263565892\n",
      "0.6345284237726099\n",
      "0.6359819121447028\n",
      "0.6351744186046512\n",
      "0.6379198966408268\n",
      "0.6327519379844961\n",
      "0.6324289405684754\n",
      "0.6321059431524548\n",
      "0.6283914728682171\n",
      "0.6280684754521964\n",
      "0.6375968992248062\n",
      "0.6280684754521964\n",
      "0.6322674418604651\n",
      "0.6246770025839793\n",
      "0.6440568475452196\n",
      "0.6243540051679587\n",
      "0.6329134366925064\n",
      "0.625968992248062\n",
      "0.6287144702842378\n",
      "0.6366279069767442\n",
      "0.6295219638242894\n",
      "0.6417958656330749\n",
      "0.6395348837209303\n",
      "0.6327519379844961\n",
      "0.6393733850129198\n",
      "0.6338824289405685\n",
      "0.6409883720930233\n",
      "0.6298449612403101\n",
      "0.6172480620155039\n",
      "0.6283914728682171\n",
      "0.6282299741602068\n",
      "0.6353359173126615\n",
      "0.6317829457364341\n",
      "0.6364664082687338\n",
      "0.624031007751938\n",
      "0.6258074935400517\n",
      "0.6382428940568475\n",
      "0.6246770025839793\n",
      "0.6384043927648578\n",
      "0.6417958656330749\n",
      "0.6411498708010336\n",
      "0.6314599483204134\n",
      "0.6280684754521964\n",
      "0.6216085271317829\n",
      "0.6319444444444444\n",
      "0.6445413436692506\n",
      "0.6298449612403101\n",
      "0.6266149870801033\n",
      "0.6285529715762274\n",
      "0.6422803617571059\n",
      "0.6316214470284238\n",
      "0.6372739018087855\n",
      "0.6429263565891473\n",
      "0.6295219638242894\n",
      "0.6296834625322998\n",
      "0.6411498708010336\n",
      "0.6363049095607235\n",
      "0.6333979328165374\n",
      "0.6396963824289406\n",
      "0.6401808785529716\n",
      "0.6332364341085271\n",
      "0.6308139534883721\n",
      "0.6233850129198967\n",
      "0.645187338501292\n",
      "0.6364664082687338\n",
      "0.6332364341085271\n",
      "0.6351744186046512\n",
      "0.6337209302325582\n",
      "0.6300064599483204\n",
      "0.6311369509043928\n",
      "0.6332364341085271\n",
      "0.6434108527131783\n",
      "0.648094315245478\n",
      "0.625968992248062\n",
      "0.6267764857881137\n",
      "0.6283914728682171\n",
      "0.6324289405684754\n",
      "0.6266149870801033\n",
      "0.6300064599483204\n",
      "0.6270994832041343\n",
      "0.6329134366925064\n",
      "0.6364664082687338\n",
      "0.6298449612403101\n",
      "0.6382428940568475\n",
      "0.6435723514211886\n",
      "0.6319444444444444\n",
      "0.6401808785529716\n",
      "0.6390503875968992\n",
      "0.625484496124031\n",
      "0.6246770025839793\n",
      "0.645187338501292\n",
      "0.6400193798449613\n",
      "0.6367894056847545\n",
      "0.6354974160206718\n",
      "0.6253229974160207\n",
      "0.6369509043927648\n",
      "0.6395348837209303\n",
      "0.6317829457364341\n",
      "0.6358204134366925\n",
      "0.6346899224806202\n",
      "0.6458333333333334\n",
      "0.6324289405684754\n",
      "0.6421188630490956\n",
      "0.6280684754521964\n",
      "0.6405038759689923\n",
      "0.6403423772609819\n",
      "0.6398578811369509\n",
      "0.6280684754521964\n",
      "0.6282299741602068\n",
      "0.6311369509043928\n",
      "0.6366279069767442\n",
      "0.6342054263565892\n",
      "0.6366279069767442\n",
      "0.6400193798449613\n",
      "0.6367894056847545\n",
      "0.6243540051679587\n",
      "0.6366279069767442\n",
      "0.6291989664082688\n",
      "0.6241925064599483\n",
      "0.6224160206718347\n",
      "0.6288759689922481\n",
      "0.6288759689922481\n",
      "0.6243540051679587\n",
      "0.6340439276485789\n",
      "0.6434108527131783\n",
      "0.6224160206718347\n",
      "0.6359819121447028\n",
      "0.6275839793281653\n",
      "0.6371124031007752\n",
      "0.6459948320413437\n",
      "0.6337209302325582\n",
      "0.6354974160206718\n",
      "0.6371124031007752\n",
      "0.6384043927648578\n",
      "0.6459948320413437\n",
      "0.6354974160206718\n",
      "0.6405038759689923\n",
      "0.6377583979328165\n",
      "0.6361434108527132\n",
      "0.6372739018087855\n",
      "0.6309754521963824\n",
      "0.6403423772609819\n",
      "0.6343669250645995\n",
      "0.6233850129198967\n",
      "0.6351744186046512\n",
      "0.6400193798449613\n",
      "0.6322674418604651\n",
      "0.6408268733850129\n",
      "0.6343669250645995\n",
      "0.6430878552971576\n",
      "0.6384043927648578\n",
      "0.6203165374677002\n",
      "0.6432493540051679\n",
      "0.6327519379844961\n",
      "0.6406653746770026\n",
      "0.6311369509043928\n",
      "0.6419573643410853\n",
      "0.6392118863049095\n",
      "0.6401808785529716\n",
      "0.6414728682170543\n",
      "0.6304909560723514\n",
      "0.6343669250645995\n",
      "0.6351744186046512\n",
      "0.6337209302325582\n",
      "0.6369509043927648\n",
      "0.6303294573643411\n",
      "0.6338824289405685\n",
      "0.627906976744186\n",
      "0.6392118863049095\n",
      "0.6413113695090439\n",
      "0.624031007751938\n",
      "0.6411498708010336\n",
      "0.6290374677002584\n",
      "0.6348514211886305\n",
      "0.6324289405684754\n",
      "0.6374354005167958\n",
      "0.6385658914728682\n",
      "0.6393733850129198\n",
      "0.627906976744186\n",
      "0.6388888888888888\n",
      "0.6414728682170543\n",
      "0.6272609819121447\n",
      "0.6356589147286822\n",
      "0.6361434108527132\n",
      "0.6358204134366925\n",
      "0.6332364341085271\n",
      "0.6308139534883721\n",
      "0.6311369509043928\n",
      "0.6354974160206718\n",
      "0.6329134366925064\n",
      "0.6270994832041343\n",
      "0.6199935400516796\n",
      "0.6395348837209303\n",
      "0.6338824289405685\n",
      "0.6241925064599483\n",
      "0.6311369509043928\n",
      "0.6195090439276486\n",
      "0.6455103359173127\n",
      "0.6282299741602068\n",
      "0.6325904392764858\n",
      "0.6321059431524548\n",
      "0.6363049095607235\n",
      "0.6393733850129198\n",
      "0.6424418604651163\n",
      "0.6293604651162791\n",
      "0.6321059431524548\n",
      "0.6388888888888888\n",
      "0.6300064599483204\n",
      "0.6361434108527132\n",
      "0.6450258397932817\n",
      "0.6348514211886305\n",
      "0.6448643410852714\n",
      "0.626937984496124\n",
      "0.6298449612403101\n",
      "0.6212855297157622\n",
      "0.6400193798449613\n",
      "0.6343669250645995\n",
      "0.6358204134366925\n",
      "0.6288759689922481\n",
      "0.6316214470284238\n",
      "0.6369509043927648\n",
      "0.6272609819121447\n",
      "0.6309754521963824\n",
      "0.6380813953488372\n",
      "0.6275839793281653\n",
      "0.6377583979328165\n",
      "0.6275839793281653\n",
      "0.6422803617571059\n",
      "0.6296834625322998\n",
      "0.6333979328165374\n",
      "0.6417958656330749\n",
      "0.6195090439276486\n",
      "0.6306524547803618\n",
      "0.6401808785529716\n",
      "0.6411498708010336\n",
      "0.6371124031007752\n",
      "0.6514857881136951\n",
      "0.6514857881136951\n"
     ]
    }
   ],
   "source": [
    "mytree = DecisionTreeClassifier(max_depth=8)\n",
    "acc = 0.1\n",
    "while acc < 0.65:\n",
    "    xtrain,xtest,ytrain,ytest=tts(x,y,test_size=0.3)\n",
    "    mytree.fit(xtrain,ytrain)\n",
    "    yhatr=mytree.predict(xtest)\n",
    "    acc=accuracy_score(ytest,yhatr)\n",
    "    print(acc)\n",
    "print(acc)"
   ]
  },
  {
   "cell_type": "markdown",
   "id": "7c7f0d05",
   "metadata": {},
   "source": [
    "### at max_depth=10 "
   ]
  },
  {
   "cell_type": "code",
   "execution_count": 254,
   "id": "152a639a",
   "metadata": {},
   "outputs": [
    {
     "name": "stdout",
     "output_type": "stream",
     "text": [
      "0.64906330749354\n",
      "0.6521317829457365\n",
      "0.6450258397932817\n",
      "0.6401808785529716\n",
      "0.6385658914728682\n",
      "0.6497093023255814\n",
      "0.6513242894056848\n",
      "0.6427648578811369\n",
      "0.6416343669250646\n",
      "0.6477713178294574\n",
      "0.6524547803617571\n",
      "0.6550387596899225\n",
      "0.6532622739018088\n",
      "0.6468023255813954\n",
      "0.6547157622739018\n",
      "0.662467700258398\n",
      "0.6564922480620154\n",
      "0.6576227390180879\n",
      "0.6539082687338501\n",
      "0.6534237726098191\n",
      "0.6647286821705426\n",
      "0.6550387596899225\n",
      "0.6464793281653747\n",
      "0.6566537467700259\n",
      "0.6524547803617571\n",
      "0.6585917312661499\n",
      "0.6440568475452196\n",
      "0.6542312661498708\n",
      "0.6522932816537468\n",
      "0.6450258397932817\n",
      "0.6422803617571059\n",
      "0.6366279069767442\n",
      "0.6593992248062015\n",
      "0.6414728682170543\n",
      "0.661983204134367\n",
      "0.6569767441860465\n",
      "0.6501937984496124\n",
      "0.6521317829457365\n",
      "0.6560077519379846\n",
      "0.648094315245478\n",
      "0.6561692506459949\n",
      "0.6621447028423773\n",
      "0.6581072351421189\n",
      "0.645187338501292\n",
      "0.6484173126614987\n",
      "0.6511627906976745\n",
      "0.6571382428940569\n",
      "0.6537467700258398\n",
      "0.6501937984496124\n",
      "0.6539082687338501\n",
      "0.6453488372093024\n",
      "0.6582687338501292\n",
      "0.648094315245478\n",
      "0.6482558139534884\n",
      "0.6521317829457365\n",
      "0.6416343669250646\n",
      "0.6585917312661499\n",
      "0.6526162790697675\n",
      "0.6550387596899225\n",
      "0.6514857881136951\n",
      "0.6526162790697675\n",
      "0.650516795865633\n",
      "0.6432493540051679\n",
      "0.664405684754522\n",
      "0.6424418604651163\n",
      "0.6527777777777778\n",
      "0.6464793281653747\n",
      "0.64906330749354\n",
      "0.6576227390180879\n",
      "0.6532622739018088\n",
      "0.6537467700258398\n",
      "0.6435723514211886\n",
      "0.66343669250646\n",
      "0.6540697674418605\n",
      "0.6571382428940569\n",
      "0.6493863049095607\n",
      "0.6563307493540051\n",
      "0.6552002583979328\n",
      "0.6518087855297158\n",
      "0.6498708010335917\n",
      "0.6527777777777778\n",
      "0.649547803617571\n",
      "0.6616602067183462\n",
      "0.6458333333333334\n",
      "0.6592377260981912\n",
      "0.6506782945736435\n",
      "0.650032299741602\n",
      "0.6545542635658915\n",
      "0.6589147286821705\n",
      "0.6487403100775194\n",
      "0.6513242894056848\n",
      "0.6474483204134367\n",
      "0.6405038759689923\n",
      "0.6571382428940569\n",
      "0.6411498708010336\n",
      "0.6566537467700259\n",
      "0.6366279069767442\n",
      "0.648578811369509\n",
      "0.6542312661498708\n",
      "0.6661821705426356\n",
      "0.6534237726098191\n",
      "0.6582687338501292\n",
      "0.6443798449612403\n",
      "0.648578811369509\n",
      "0.649547803617571\n",
      "0.648094315245478\n",
      "0.6560077519379846\n",
      "0.6581072351421189\n",
      "0.6543927648578811\n",
      "0.6572997416020672\n",
      "0.6479328165374677\n",
      "0.6548772609819121\n",
      "0.6568152454780362\n",
      "0.64906330749354\n",
      "0.6584302325581395\n",
      "0.647609819121447\n",
      "0.6514857881136951\n",
      "0.6572997416020672\n",
      "0.6548772609819121\n",
      "0.6539082687338501\n",
      "0.6560077519379846\n",
      "0.6542312661498708\n",
      "0.6555232558139535\n",
      "0.6576227390180879\n",
      "0.6558462532299741\n",
      "0.6531007751937985\n",
      "0.6435723514211886\n",
      "0.6560077519379846\n",
      "0.6521317829457365\n",
      "0.650516795865633\n",
      "0.6411498708010336\n",
      "0.6361434108527132\n",
      "0.6542312661498708\n",
      "0.6453488372093024\n",
      "0.6514857881136951\n",
      "0.6448643410852714\n",
      "0.6608527131782945\n",
      "0.6445413436692506\n",
      "0.6558462532299741\n",
      "0.6540697674418605\n",
      "0.6464793281653747\n",
      "0.6489018087855297\n",
      "0.6514857881136951\n",
      "0.6531007751937985\n",
      "0.6584302325581395\n",
      "0.6489018087855297\n",
      "0.6405038759689923\n",
      "0.6603682170542635\n",
      "0.6576227390180879\n",
      "0.6450258397932817\n",
      "0.6487403100775194\n",
      "0.6477713178294574\n",
      "0.6524547803617571\n",
      "0.6489018087855297\n",
      "0.6434108527131783\n",
      "0.648578811369509\n",
      "0.6518087855297158\n",
      "0.650032299741602\n",
      "0.6443798449612403\n",
      "0.6576227390180879\n",
      "0.6511627906976745\n",
      "0.6463178294573644\n",
      "0.6503552971576227\n",
      "0.6521317829457365\n",
      "0.6569767441860465\n",
      "0.6577842377260982\n",
      "0.6547157622739018\n",
      "0.6584302325581395\n",
      "0.650032299741602\n",
      "0.6442183462532299\n",
      "0.6550387596899225\n",
      "0.6487403100775194\n",
      "0.6447028423772609\n",
      "0.6547157622739018\n",
      "0.6458333333333334\n",
      "0.6576227390180879\n",
      "0.648578811369509\n",
      "0.6501937984496124\n",
      "0.6521317829457365\n",
      "0.6463178294573644\n",
      "0.6584302325581395\n",
      "0.6590762273901809\n",
      "0.6543927648578811\n",
      "0.6534237726098191\n",
      "0.6526162790697675\n",
      "0.6566537467700259\n",
      "0.6440568475452196\n",
      "0.6694121447028424\n",
      "0.6484173126614987\n",
      "0.6501937984496124\n",
      "0.6589147286821705\n",
      "0.6519702842377261\n",
      "0.6661821705426356\n",
      "0.6375968992248062\n",
      "0.6521317829457365\n",
      "0.6432493540051679\n",
      "0.6498708010335917\n",
      "0.6464793281653747\n",
      "0.650516795865633\n",
      "0.651001291989664\n",
      "0.6576227390180879\n",
      "0.6409883720930233\n",
      "0.6527777777777778\n",
      "0.6409883720930233\n",
      "0.6458333333333334\n",
      "0.651001291989664\n",
      "0.6593992248062015\n",
      "0.6537467700258398\n",
      "0.6519702842377261\n",
      "0.6447028423772609\n",
      "0.6556847545219638\n",
      "0.6647286821705426\n",
      "0.6518087855297158\n",
      "0.6337209302325582\n",
      "0.6458333333333334\n",
      "0.651001291989664\n",
      "0.6479328165374677\n",
      "0.6463178294573644\n",
      "0.6550387596899225\n",
      "0.6542312661498708\n",
      "0.6493863049095607\n",
      "0.6524547803617571\n",
      "0.6442183462532299\n",
      "0.6408268733850129\n",
      "0.6543927648578811\n",
      "0.6427648578811369\n",
      "0.6537467700258398\n",
      "0.6542312661498708\n",
      "0.6419573643410853\n",
      "0.6427648578811369\n",
      "0.6542312661498708\n",
      "0.6440568475452196\n",
      "0.6560077519379846\n",
      "0.6526162790697675\n",
      "0.6531007751937985\n",
      "0.6519702842377261\n",
      "0.6432493540051679\n",
      "0.650032299741602\n",
      "0.6535852713178295\n",
      "0.6605297157622739\n",
      "0.6744186046511628\n",
      "0.6744186046511628\n"
     ]
    }
   ],
   "source": [
    "mytree2 = DecisionTreeClassifier(max_depth=10)\n",
    "acc = 0.1\n",
    "while acc < 0.67:\n",
    "    xtrain,xtest,ytrain,ytest=tts(x,y,test_size=0.3)\n",
    "    mytree2.fit(xtrain,ytrain)\n",
    "    yhatr=mytree2.predict(xtest)\n",
    "    acc=accuracy_score(ytest,yhatr)\n",
    "    print(acc)\n",
    "print(acc)"
   ]
  },
  {
   "cell_type": "markdown",
   "id": "6af4827f",
   "metadata": {},
   "source": [
    "### After many tries, we get again maximum accuracy_score at < 0.67 but we get the best value at max depth = 10 after inc. maxdepth not very much change \n",
    "## means that  67 perc. correct value\n",
    "### if we get the another best value in another model (switch it to that model)"
   ]
  },
  {
   "cell_type": "markdown",
   "id": "744c4c7f",
   "metadata": {},
   "source": [
    "# SVC"
   ]
  },
  {
   "cell_type": "code",
   "execution_count": 255,
   "id": "b2800fe4",
   "metadata": {},
   "outputs": [],
   "source": [
    "from sklearn.svm import LinearSVC"
   ]
  },
  {
   "cell_type": "code",
   "execution_count": 266,
   "id": "cdfe39ad",
   "metadata": {},
   "outputs": [
    {
     "name": "stdout",
     "output_type": "stream",
     "text": [
      "0.5807493540051679\n",
      "0.5852713178294574\n",
      "0.5893087855297158\n",
      "0.5823643410852714\n",
      "0.5815568475452196\n",
      "0.5780038759689923\n",
      "0.5818798449612403\n",
      "0.5773578811369509\n",
      "0.5817183462532299\n",
      "0.5828488372093024\n",
      "0.5780038759689923\n",
      "0.5849483204134367\n",
      "0.5762273901808785\n",
      "0.5952842377260982\n",
      "0.5952842377260982\n"
     ]
    }
   ],
   "source": [
    "svc = LinearSVC ( C=2.0, dual = False)  \n",
    "accuracy = 0.1\n",
    "while accuracy < 0.59:\n",
    "    xtrain,xtest,ytrain,ytest=tts(x,y,test_size=0.3)\n",
    "    svc.fit(xtrain,ytrain.ravel())\n",
    "    yhats = mymodel.predict(xtest)\n",
    "    accuracy = accuracy_score(ytest,yhats)\n",
    "    print(accuracy)\n",
    "print(accuracy)"
   ]
  },
  {
   "cell_type": "markdown",
   "id": "1021682a",
   "metadata": {},
   "source": [
    "### After many tries, we get the best maximum accuracy_score at < 0.59 of current model\n",
    "## means that we increase to 59 perc. correct value\n",
    "### if we get the another best value in another model (switch it to that model)"
   ]
  },
  {
   "cell_type": "markdown",
   "id": "47d3a74b",
   "metadata": {},
   "source": [
    "# KNN"
   ]
  },
  {
   "cell_type": "code",
   "execution_count": 267,
   "id": "9062f628",
   "metadata": {},
   "outputs": [],
   "source": [
    "from sklearn.neighbors import KNeighborsClassifier"
   ]
  },
  {
   "cell_type": "code",
   "execution_count": 279,
   "id": "9950c606",
   "metadata": {},
   "outputs": [
    {
     "name": "stdout",
     "output_type": "stream",
     "text": [
      "0.35852713178294576\n",
      "0.35271317829457366\n",
      "0.3588501291989664\n",
      "0.3611111111111111\n",
      "0.3633720930232558\n",
      "0.3719315245478036\n",
      "0.3719315245478036\n"
     ]
    }
   ],
   "source": [
    "knn = KNeighborsClassifier(n_neighbors = 1)\n",
    "accur = 0.1\n",
    "while accur < 0.37:\n",
    "    xtrain,xtest,ytrain,ytest=tts(x,y,test_size=0.3)\n",
    "    knn.fit(xtrain,ytrain.ravel())\n",
    "    yhatk = knn.predict(xtest)\n",
    "    accur = accuracy_score(ytest,yhatk)\n",
    "    print(accur)\n",
    "print(accur)"
   ]
  },
  {
   "cell_type": "markdown",
   "id": "d72ba669",
   "metadata": {},
   "source": [
    "### we gwt very bad result using KNN classifier"
   ]
  },
  {
   "cell_type": "markdown",
   "id": "4e0b370a",
   "metadata": {},
   "source": [
    "# <span style='color:red'>  Conclusion.  </span>"
   ]
  },
  {
   "cell_type": "markdown",
   "id": "05a0c211",
   "metadata": {},
   "source": [
    "### concluding that we get best result using decision tree but we use max_depth but it is also not very much good because around 33 percentage is wrong\n",
    "### means classifying did not help to achive good accuracy\n",
    "## we take null value of bedroom = 0 if we take another value it also effect the data and if we omit value negatively relate data may be it get good result\n",
    "## in future we see the result after above changes"
   ]
  },
  {
   "cell_type": "markdown",
   "id": "dbb81771",
   "metadata": {},
   "source": [
    "# in my opininon random forest regressor is best for this data/"
   ]
  },
  {
   "cell_type": "markdown",
   "id": "dadcab5d",
   "metadata": {},
   "source": [
    "# <span style='color:red'> ----- .  </span>"
   ]
  },
  {
   "cell_type": "code",
   "execution_count": null,
   "id": "33ff705e",
   "metadata": {},
   "outputs": [],
   "source": []
  }
 ],
 "metadata": {
  "kernelspec": {
   "display_name": "Python 3 (ipykernel)",
   "language": "python",
   "name": "python3"
  },
  "language_info": {
   "codemirror_mode": {
    "name": "ipython",
    "version": 3
   },
   "file_extension": ".py",
   "mimetype": "text/x-python",
   "name": "python",
   "nbconvert_exporter": "python",
   "pygments_lexer": "ipython3",
   "version": "3.10.4"
  }
 },
 "nbformat": 4,
 "nbformat_minor": 5
}
